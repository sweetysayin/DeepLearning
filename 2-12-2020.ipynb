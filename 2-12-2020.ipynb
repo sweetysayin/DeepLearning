{
 "cells": [
  {
   "cell_type": "code",
   "execution_count": 2,
   "metadata": {},
   "outputs": [
    {
     "data": {
      "text/plain": [
       "['sepal length (cm)',\n",
       " 'sepal width (cm)',\n",
       " 'petal length (cm)',\n",
       " 'petal width (cm)']"
      ]
     },
     "execution_count": 2,
     "metadata": {},
     "output_type": "execute_result"
    }
   ],
   "source": [
    "from sklearn.datasets import load_iris\n",
    "from sklearn.decomposition import PCA\n",
    "\n",
    "iris=load_iris()\n",
    "iris.feature_names"
   ]
  },
  {
   "cell_type": "code",
   "execution_count": 5,
   "metadata": {},
   "outputs": [
    {
     "data": {
      "image/png": "[encoded data removed]",
      "text/plain": [
       "<Figure size 432x288 with 1 Axes>"
      ]
     },
     "metadata": {
      "needs_background": "light"
     },
     "output_type": "display_data"
    }
   ],
   "source": [
    "import matplotlib.pyplot as plt\n",
    "\n",
    "\n",
    "\n",
    "\n",
    "x=iris.data\n",
    "y=iris.target\n",
    "\n",
    "pca=PCA(n_components=2)\n",
    "reduced_x=pca.fit_transform(x)\n",
    "\n",
    "red_x,red_y=[],[]\n",
    "green_x,green_y=[],[]\n",
    "blue_x,blue_y=[],[]\n",
    "\n",
    "for i in range(len(reduced_x)):\n",
    "    if y[i]==0:\n",
    "        red_x.append(reduced_x[i][0])\n",
    "        red_y.append(reduced_x[i][1])\n",
    "    elif y[i]==1:\n",
    "        green_x.append(reduced_x[i][0])\n",
    "        green_y.append(reduced_x[i][1])\n",
    "    else:\n",
    "        blue_x.append(reduced_x[i][0])\n",
    "        blue_y.append(reduced_x[i][1])\n",
    "        \n",
    "plt.scatter(red_x,red_y,c='r',marker='x')\n",
    "plt.scatter(green_x,green_y,c='g',marker='o')\n",
    "plt.scatter(blue_x,blue_y,c='b',marker='D')\n",
    "plt.show()"
   ]
  }
 ],
 "metadata": {
  "kernelspec": {
   "display_name": "Python 3",
   "language": "python",
   "name": "python3"
  },
  "language_info": {
   "codemirror_mode": {
    "name": "ipython",
    "version": 3
   },
   "file_extension": ".py",
   "mimetype": "text/x-python",
   "name": "python",
   "nbconvert_exporter": "python",
   "pygments_lexer": "ipython3",
   "version": "3.7.4"
  }
 },
 "nbformat": 4,
 "nbformat_minor": 2
}
