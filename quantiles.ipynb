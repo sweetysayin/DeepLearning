{
 "cells": [
  {
   "cell_type": "code",
   "execution_count": 1,
   "metadata": {},
   "outputs": [
    {
     "data": {
      "text/plain": [
       "array([35, 56, 78, 89, 54, 64, 93, 60, 64, 78, 82, 90])"
      ]
     },
     "execution_count": 1,
     "metadata": {},
     "output_type": "execute_result"
    }
   ],
   "source": [
    "import numpy as np\n",
    "data=np.array([35,56,78,89,54,64,93,60,64,78,82,90])\n",
    "data"
   ]
  },
  {
   "cell_type": "code",
   "execution_count": 2,
   "metadata": {},
   "outputs": [
    {
     "ename": "SyntaxError",
     "evalue": "invalid syntax (<ipython-input-2-e576b754e6ce>, line 14)",
     "output_type": "error",
     "traceback": [
      "\u001b[1;36m  File \u001b[1;32m\"<ipython-input-2-e576b754e6ce>\"\u001b[1;36m, line \u001b[1;32m14\u001b[0m\n\u001b[1;33m    qntl range=np.percentile(data,i)\u001b[0m\n\u001b[1;37m             ^\u001b[0m\n\u001b[1;31mSyntaxError\u001b[0m\u001b[1;31m:\u001b[0m invalid syntax\n"
     ]
    }
   ],
   "source": [
    "from statistics import stdev,variance\n",
    "std=stdev(data)\n",
    "print('Std Deviation:',std)\n",
    "var=variance(data)\n",
    "print('Variance:',var)\n",
    "\n",
    "maxi=np.max(data,axis=0)\n",
    "mini=np.min(data,axis=0)\n",
    "print('Range:',(maxi-mini))\n",
    "\n",
    "print('\\nQuantiles:')\n",
    "\n",
    "for i in [30,80,100]:\n",
    "    qntl range=np.percentile(data,i)\n",
    "    print(str(i) + \"%:\"+str(qntl_range))\n",
    "q75,q25=np.percentile(data,[75,25]) \n",
    "q75,q25\n",
    "print('Inter')\n"
   ]
  },
  {
   "cell_type": "code",
   "execution_count": null,
   "metadata": {},
   "outputs": [],
   "source": []
  }
 ],
 "metadata": {
  "kernelspec": {
   "display_name": "Python 3",
   "language": "python",
   "name": "python3"
  },
  "language_info": {
   "codemirror_mode": {
    "name": "ipython",
    "version": 3
   },
   "file_extension": ".py",
   "mimetype": "text/x-python",
   "name": "python",
   "nbconvert_exporter": "python",
   "pygments_lexer": "ipython3",
   "version": "3.7.4"
  }
 },
 "nbformat": 4,
 "nbformat_minor": 2
}
